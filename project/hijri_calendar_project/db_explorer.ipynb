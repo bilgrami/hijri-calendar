{
 "cells": [
  {
   "cell_type": "markdown",
   "metadata": {},
   "source": [
    "## Hijri Calendar - Data Explorer"
   ]
  },
  {
   "cell_type": "code",
   "execution_count": 1,
   "metadata": {},
   "outputs": [],
   "source": [
    "from IPython.core.display import display, HTML"
   ]
  },
  {
   "cell_type": "markdown",
   "metadata": {},
   "source": [
    "##### How many Data Files?"
   ]
  },
  {
   "cell_type": "code",
   "execution_count": 2,
   "metadata": {},
   "outputs": [
    {
     "data": {
      "text/plain": [
       "2"
      ]
     },
     "execution_count": 2,
     "metadata": {},
     "output_type": "execute_result"
    }
   ],
   "source": [
    "DataFile.objects.all().count()"
   ]
  },
  {
   "cell_type": "markdown",
   "metadata": {},
   "source": [
    "##### Find count of dates for Hijri Year 1441 where hijri month = Rajab except hijri days >= 15"
   ]
  },
  {
   "cell_type": "code",
   "execution_count": 3,
   "metadata": {},
   "outputs": [
    {
     "data": {
      "text/plain": [
       "14"
      ]
     },
     "execution_count": 3,
     "metadata": {},
     "output_type": "execute_result"
    }
   ],
   "source": [
    "HijriCalendar.objects.filter(hijri_year=1441, hijri_month_name=\"Rajab\").exclude(hijri_day__gte = 15).count()"
   ]
  },
  {
   "cell_type": "markdown",
   "metadata": {},
   "source": [
    "##### Find count of dates for Hijri Year 1441 after hijri month of Ramadan"
   ]
  },
  {
   "cell_type": "code",
   "execution_count": 4,
   "metadata": {},
   "outputs": [
    {
     "data": {
      "text/plain": [
       "89"
      ]
     },
     "execution_count": 4,
     "metadata": {},
     "output_type": "execute_result"
    }
   ],
   "source": [
    "HijriCalendar.objects.filter(hijri_year=1441, hijri_month__gt = 9).count()"
   ]
  },
  {
   "cell_type": "markdown",
   "metadata": {},
   "source": [
    "#### Holidays"
   ]
  },
  {
   "cell_type": "code",
   "execution_count": 5,
   "metadata": {},
   "outputs": [
    {
     "data": {
      "text/plain": [
       "[('1442-03-12', '12 Rabi ul Awal'),\n",
       " ('1442-01-10', 'Ashura'),\n",
       " ('1442-01-01', 'Muharram'),\n",
       " ('1441-12-10', 'Eid al Adha'),\n",
       " ('1441-10-01', 'Eid al Fitr'),\n",
       " ('1441-09-01', 'Ramadan'),\n",
       " ('1441-08-15', 'Shab e Barat'),\n",
       " ('1441-07-27', 'Shab e Meraj'),\n",
       " ('1441-03-12', '12 Rabi ul Awal'),\n",
       " ('1441-01-10', 'Ashura'),\n",
       " ('1441-01-01', 'Muharram'),\n",
       " ('1440-12-10', 'Eid al Adha'),\n",
       " ('1440-10-01', 'Eid al Fitr')]"
      ]
     },
     "execution_count": 5,
     "metadata": {},
     "output_type": "execute_result"
    }
   ],
   "source": [
    "list(HijriCalendar.objects.filter(is_holiday = True).values_list('hijri_date_value', 'holiday_list'))"
   ]
  },
  {
   "cell_type": "code",
   "execution_count": 6,
   "metadata": {},
   "outputs": [
    {
     "data": {
      "text/plain": [
       "[('1442-03-12', '12 Rabi ul Awal'),\n",
       " ('1442-01-10', 'Ashura'),\n",
       " ('1442-01-01', 'Muharram'),\n",
       " ('1441-12-10', 'Eid al Adha'),\n",
       " ('1441-10-01', 'Eid al Fitr'),\n",
       " ('1441-09-01', 'Ramadan'),\n",
       " ('1441-08-15', 'Shab e Barat'),\n",
       " ('1441-07-27', 'Shab e Meraj'),\n",
       " ('1441-03-12', '12 Rabi ul Awal'),\n",
       " ('1441-01-10', 'Ashura'),\n",
       " ('1441-01-01', 'Muharram'),\n",
       " ('1440-12-10', 'Eid al Adha'),\n",
       " ('1440-10-01', 'Eid al Fitr')]"
      ]
     },
     "execution_count": 6,
     "metadata": {},
     "output_type": "execute_result"
    }
   ],
   "source": [
    "list(HijriCalendar.holiday_calendar.all().values_list('hijri_date_value', 'holiday_list'))"
   ]
  },
  {
   "cell_type": "code",
   "execution_count": null,
   "metadata": {},
   "outputs": [],
   "source": []
  }
 ],
 "metadata": {
  "kernelspec": {
   "display_name": "Django Shell-Plus",
   "language": "python",
   "name": "django_extensions"
  },
  "language_info": {
   "codemirror_mode": {
    "name": "ipython",
    "version": 3
   },
   "file_extension": ".py",
   "mimetype": "text/x-python",
   "name": "python",
   "nbconvert_exporter": "python",
   "pygments_lexer": "ipython3",
   "version": "3.7.3"
  },
  "widgets": {
   "application/vnd.jupyter.widget-state+json": {
    "state": {},
    "version_major": 2,
    "version_minor": 0
   }
  }
 },
 "nbformat": 4,
 "nbformat_minor": 2
}
